{
  "nbformat": 4,
  "nbformat_minor": 0,
  "metadata": {
    "colab": {
      "name": "DEMUCS_2.ipynb",
      "provenance": [],
      "collapsed_sections": [],
      "toc_visible": true
    },
    "kernelspec": {
      "display_name": "Python 3",
      "name": "python3"
    }
  },
  "cells": [
    {
      "cell_type": "markdown",
      "metadata": {
        "id": "pEJusN_m4TEF"
      },
      "source": [
        "# Mount GD"
      ]
    },
    {
      "cell_type": "code",
      "metadata": {
        "id": "VLClQM6RFL1V"
      },
      "source": [
        "from google.colab import drive\n",
        "drive.mount('/content/drive')"
      ],
      "execution_count": null,
      "outputs": []
    },
    {
      "cell_type": "markdown",
      "metadata": {
        "id": "K6mcSc0mmp3i"
      },
      "source": [
        "# Install"
      ]
    },
    {
      "cell_type": "code",
      "metadata": {
        "id": "f8Brdfh6mzEz",
        "cellView": "both"
      },
      "source": [
        "#BEFORE RUNNING THIS copy the inner demucs folder from https://github.com/facebookresearch/demucs/archive/master.zip \n",
        "# to the root of your GDrive. NOT demucs-master. \n",
        "\n",
        "!cp \"/content/drive/My Drive/demucs/\" \"/content/\" -r\n",
        "\n",
        "#@title\n",
        "!apt install ffmpeg"
      ],
      "execution_count": null,
      "outputs": []
    },
    {
      "cell_type": "code",
      "metadata": {
        "id": "V_6Ram1lmc1F"
      },
      "source": [
        "#@title\n",
        "#!pip install torch\n",
        "#!pip install scipy==1.3.1\n",
        "#!pip install tqdm==4.36.1\n",
        "!pip install musdb==0.3.1\n",
        "!pip install museval==0.3.0\n",
        "#!pip install requests==2.22\n",
        "!pip install treetable==0.2.3"
      ],
      "execution_count": null,
      "outputs": []
    },
    {
      "cell_type": "markdown",
      "metadata": {
        "id": "iWmi9_aXa1Bm"
      },
      "source": [
        "# Process audio"
      ]
    },
    {
      "cell_type": "code",
      "metadata": {
        "id": "fum73UhbBpFV"
      },
      "source": [
        "#EDIT THIS with the path of your audio in the root of your GD\n",
        "!python3 -m demucs.separate -n demucs_extra --dl \"/content/drive/My Drive/Mutsuki-Equipment_1.ogg\""
      ],
      "execution_count": null,
      "outputs": []
    },
    {
      "cell_type": "code",
      "metadata": {
        "id": "i4jUK_mog7z_"
      },
      "source": [
        "!find /content/separated/ -name \"*.wav\" -exec bash -c 'ffmpeg -i \"{}\" -y  -sample_fmt s16  -c:a flac \"${0/.wav}.flac\"'  {} \\;\n",
        "!find /content/separated/ -name \"*.wav\" -delete"
      ],
      "execution_count": null,
      "outputs": []
    },
    {
      "cell_type": "code",
      "metadata": {
        "id": "Y6KHE4Z84IiS"
      },
      "source": [
        "#Copying processed audio to your GD\n",
        "!cp \"/content/separated/demucs_extra/\" \"/content/drive/My Drive/\" -r"
      ],
      "execution_count": null,
      "outputs": []
    }
  ]
}