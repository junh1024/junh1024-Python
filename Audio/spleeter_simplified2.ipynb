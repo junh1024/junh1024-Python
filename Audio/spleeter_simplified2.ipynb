{
  "nbformat": 4,
  "nbformat_minor": 0,
  "metadata": {
    "colab": {
      "name": "spleeter_simplified2",
      "provenance": [],
      "collapsed_sections": [],
      "toc_visible": true
    },
    "kernelspec": {
      "display_name": "Python 3",
      "name": "python3"
    }
  },
  "cells": [
    {
      "cell_type": "markdown",
      "metadata": {
        "id": "coJWlp57n4gm"
      },
      "source": [
        "Run everything from top to bottom. Don't forget to edit the path to your audio before running part 2. You can also change the stems from 2,4,5 in part 2."
      ]
    },
    {
      "cell_type": "markdown",
      "metadata": {
        "id": "eaPnT-LenPEe"
      },
      "source": [
        "# 1- Prerequisites"
      ]
    },
    {
      "cell_type": "code",
      "metadata": {
        "id": "VLClQM6RFL1V"
      },
      "source": [
        "from google.colab import drive\n",
        "drive.mount('/content/drive')"
      ],
      "execution_count": null,
      "outputs": []
    },
    {
      "cell_type": "code",
      "metadata": {
        "id": "f8Brdfh6mzEz"
      },
      "source": [
        "600#@title\n",
        "#!apt install ffmpeg\n",
        "\n",
        "!pip install spleeter"
      ],
      "execution_count": null,
      "outputs": []
    },
    {
      "cell_type": "code",
      "metadata": {
        "id": "H8co2WXKeu9R"
      },
      "source": [
        "#import os, subprocess\n",
        "#from IPython.display import Audio"
      ],
      "execution_count": null,
      "outputs": []
    },
    {
      "cell_type": "markdown",
      "metadata": {
        "id": "iWmi9_aXa1Bm"
      },
      "source": [
        "# 2- Process audio"
      ]
    },
    {
      "cell_type": "code",
      "metadata": {
        "id": "e_zxks-Tfiju",
        "cellView": "both"
      },
      "source": [
        "!spleeter separate -p spleeter:2stems-16kHz -B librosa -d 600  \\\n",
        "\"/content/drive/MyDrive/YOUR SONG.flac\" \\\n",
        "-o \"/content/separated/\"\n"
      ],
      "execution_count": null,
      "outputs": []
    },
    {
      "cell_type": "code",
      "metadata": {
        "id": "bhvdc_m-Roba"
      },
      "source": [
        "#!uname -a\n",
        "#!lscpu\n",
        "#!cat /proc/meminfo\n",
        "#!find \"/content/separated/\"  -name 'other.wav' -delete\n",
        "#!find  \"/content/separated/\" \"other.wav\"  \"bass.wav\"  -delete\n",
        "!find \"/content/separated/\" -name \"*.wav\" -exec bash -c 'ffmpeg -i \"{}\" -y -c:a flac \"${0/.wav}.flac\"'  {} \\;\n",
        "\n",
        "!find  \"/content/separated/\" -name \"*.wav\" -delete\n",
        "!cp -r \"/content/separated/\"  \"/content/drive/My Drive/\"\n",
        "#!zip -r greig-pcto1-m2.zip \"/content/drive/My Drive/spl2\"\n",
        "#!cp greig-pcto1-m2.zip \"/content/drive/My Drive/spl2/\""
      ],
      "execution_count": null,
      "outputs": []
    }
  ]
}